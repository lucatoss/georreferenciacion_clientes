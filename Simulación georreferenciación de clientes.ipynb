{
 "cells": [
  {
   "cell_type": "code",
   "execution_count": 2,
   "metadata": {},
   "outputs": [],
   "source": [
    "import pandas as pd\n",
    "import numpy as np\n",
    "import datetime as DT\n",
    "from geopy import Nominatim\n",
    "import geocoder\n",
    "import geopy.distance\n",
    "import matplotlib.pyplot as plt\n",
    "import os\n",
    "os.environ['PROJ_LIB'] = '/opt/conda/pkgs/proj4-5.2.0-he1b5a44_1003/share/proj'\n",
    "from mpl_toolkits.basemap import Basemap"
   ]
  },
  {
   "cell_type": "markdown",
   "metadata": {},
   "source": [
    "En primer lugar se accede a un listado de clientes potenciales con intensiones de realizar una compra, cada uno de ellos debe Georreferenciarse a través de la dirección o la localidad que han consignado. "
   ]
  },
  {
   "cell_type": "code",
   "execution_count": 21,
   "metadata": {},
   "outputs": [],
   "source": [
    "#GEORREFERENCIAR EL LISTADO DE CLIENTES POTENCIALES\n",
    "\n",
    "clientes = pd.read_excel('clientes finales simulación (flip enero).xlsx').fillna('')\n",
    "\n",
    "#Se corrigen algunos términos erroneos en la denominación de las localidades\n",
    "clientes['Localidad'] = clientes['Localidad'].str.replace(' COOP', '') \n",
    "\n",
    "#se crea dos nuevas string dentro del dataframe, una \"dirección\" y otra \"ciudad\"\n",
    "clientes['Dirección'] = clientes['Calle/num'] + ', ' + clientes['Localidad'] + ', ' + clientes['Barrio'] + ', ' + clientes['Provincia']+ ', Argentina'\n",
    "clientes['Ciudad'] = clientes['Localidad'] + ', ' + clientes['Provincia'] + ', Argentina'\n",
    "\n",
    "#Se crean dos listas con las columnas antes creadas\n",
    "direcciones_clientes= clientes['Dirección'].tolist()\n",
    "ciudades_clientes= clientes['Ciudad'].tolist()\n",
    "\n",
    "#Se crean listas vacías para almacenar latitudes y longitudes\n",
    "latitudes =[]\n",
    "longitudes = []\n",
    "\n",
    "#se recurre a la librería geopy para recolectar coordenadas de los clientes\n",
    "geolocator = Nominatim(user_agent=\"xxxxxxxx.com.ar/\")\n",
    "\n",
    "#se buscan dos coordenadas, la de la dirección y la de la ciudad del cliente\n",
    "for line in range(len(direcciones_clientes)):\n",
    "    location_d = geolocator.geocode(direcciones_clientes[line], timeout=100)\n",
    "    location_c = geolocator.geocode(ciudades_clientes[line], timeout=100)\n",
    "    \n",
    "#se genera un if por el cual si no se encontraron coordenadas para la dirección se asignan las de la ciudad,\n",
    "#si tampoco se encontró para la ciudad, se asigna 0\n",
    "#si se encontraron coordenadas de la dirección, pero la distancia entre estas y las de la ciudad es muy grande\n",
    "#se asume que hay un error en las primeras y se consignan las de la ciudad\n",
    "\n",
    "    if location_d is None:\n",
    "        if location_c is None:\n",
    "            latitudes.append(0)\n",
    "            longitudes.append(0)\n",
    "        else:\n",
    "            latitudes.append(location_c.latitude)\n",
    "            longitudes.append(location_c.longitude)\n",
    "    else:\n",
    "        #calculo distancia entre coor domicilio y coor ciudad\n",
    "        coords_1 = (location_d.latitude, location_d.longitude)\n",
    "        coords_2 = (location_c.latitude, location_c.longitude)\n",
    "        distance_d_c = geopy.distance.geodesic(coords_1, coords_2).km    \n",
    "           \n",
    "        if distance_d_c < 10:\n",
    "            latitudes.append(location_d.latitude)\n",
    "            longitudes.append(location_d.longitude)\n",
    "        else:\n",
    "            latitudes.append(location_c.latitude)\n",
    "            longitudes.append(location_c.longitude)\n",
    "\n",
    "\n",
    "#Se genera un dataframe con las nuevas localidades encontradas, se eliminan aquellos que no encontró\n",
    "direcciones_clientes_coor = pd.DataFrame({'Dirección':direcciones_clientes, 'latitud': latitudes, 'longitud': longitudes})  \n",
    "direcciones_clientes_coor['latitud'] = direcciones_clientes_coor['latitud'].fillna(0)\n",
    "direcciones_clientes_coor = direcciones_clientes_coor[direcciones_clientes_coor['latitud'] != 0]\n",
    "\n",
    "#se cruzan las coordenadas con el dataframe de clientes\n",
    "clientes = pd.merge (clientes, direcciones_clientes_coor, on= 'Dirección', how= 'left')"
   ]
  },
  {
   "cell_type": "markdown",
   "metadata": {},
   "source": [
    "Ahora se recurre a un conjunto de datos internos de distribuidores y sus clientes actuales, se usaran las coordenadas de dichos clientes actuales para asignar los clientes potenciales georreferenciados"
   ]
  },
  {
   "cell_type": "code",
   "execution_count": 24,
   "metadata": {},
   "outputs": [
    {
     "name": "stdout",
     "output_type": "stream",
     "text": [
      "1450\n",
      "1450\n"
     ]
    }
   ],
   "source": [
    "#ABRIR DATOS INTERNOS CON DETALLES DE CLIENTES ACTUALES POR DISTRIBUIDOR\n",
    "datos = pd.read_excel('Carga por Categoría.xlsx')\n",
    "\n",
    "#Realizar correcciones en el reporte\n",
    "new_header2 = datos.iloc[6] \n",
    "datos= datos[7:] \n",
    "datos.columns = new_header2 \n",
    "\n",
    "datos['Provincia'] = datos['Provincia'].replace('BENI', '0')\n",
    "datos['Provincia'] = datos['Provincia'].fillna('0')\n",
    "datos['Ciudad'] = datos['Ciudad'].fillna('0')\n",
    "datos['Ciudad'] = datos['Ciudad'].str.replace('(PROV. LA PAMPA)', '')\n",
    "datos['Ciudad'] = datos['Ciudad'].str.replace('(PROV. JUJUY)', '')\n",
    "datos['Ciudad'] = datos['Ciudad'].str.replace('(PROV. CORDOBA)','')\n",
    "datos['Ciudad'] = datos['Ciudad'].str.replace('(PROV. RIO NEGRO)', '')\n",
    "datos['Ciudad'] = datos['Ciudad'].str.replace('(PROV. TIERRA DEL FUEGO)', '')\n",
    "datos['Ciudad'] = datos['Ciudad'].str.replace('(PROV. TUCUMAN)','')\n",
    "datos['Ciudad'] = datos['Ciudad'].str.replace('(PROV. MISIONES)', '')\n",
    "datos['Ciudad'] = datos['Ciudad'].str.replace('(PROV. SALTA)',  '')\n",
    "datos['Ciudad'] = datos['Ciudad'].str.replace('(PROV. CORRIENTES)', '')\n",
    "datos['Ciudad'] = datos['Ciudad'].str.replace('()', '')\n",
    "datos['Ciudad'] = datos['Ciudad'].str.replace(' COOP', '')  \n",
    "datos['Ciudad'] = datos['Ciudad'].str.replace('CAPITAL FEDERAL Y ALREDEDORES', 'CABA') \n",
    "\n",
    "#control de cantidad de datos\n",
    "print (datos.Provincia[datos[\"Ciudad\"]=='0'].count())\n",
    "print (datos.Provincia[datos[\"Provincia\"]=='0'].count())"
   ]
  },
  {
   "cell_type": "code",
   "execution_count": 25,
   "metadata": {},
   "outputs": [],
   "source": [
    "# USAR ARCHIVO COMPLEMENTARIO DE LAT Y LON (para ganar tiempo de búsqueda)\n",
    "\n",
    "lat_long = pd.read_excel(r'lat y long por localidad argentina.xlsx')\n",
    "\n",
    "lat_long = lat_long.rename(columns={\"localprov\": \"ciudad\", ' Lon': 'longitud', 'Lat': 'latitud'})\n",
    "lat_long = lat_long[['ciudad', 'latitud', 'longitud']]"
   ]
  },
  {
   "cell_type": "code",
   "execution_count": 26,
   "metadata": {},
   "outputs": [],
   "source": [
    "#se hace el primer cruce de los clientes ya existentes con las ciudades que ya estaban georreferenciadas\n",
    "datos['ciudad'] = datos['Ciudad'] + \", \" + datos['Provincia'] + ', Argentina'\n",
    "datos= pd.merge(datos, lat_long, on='ciudad', how='left').fillna(0)"
   ]
  },
  {
   "cell_type": "code",
   "execution_count": 27,
   "metadata": {},
   "outputs": [
    {
     "name": "stdout",
     "output_type": "stream",
     "text": [
      "['SAN AGUSTIN DEL VALLE FERTIL, SAN JUAN, Argentina', 'SAN ANTONIO DE OBLIGADO, SANTA FE, Argentina', 'SAN MARTIN DE LAS ESCOBAS, SANTA FE, Argentina', 'LOS BRITOS - DTO TIMBO NUEVO, TUCUMAN, Argentina']\n"
     ]
    }
   ],
   "source": [
    "#se buscan missings y se genera una lista con las ciudades faltantes\n",
    "datos_lat_lon_miss = datos[['ciudad', 'latitud', 'longitud']]\n",
    "datos_lat_lon_miss = datos_lat_lon_miss.loc[datos_lat_lon_miss['latitud'] == 0]\n",
    "datos_lat_lon_miss = datos_lat_lon_miss.loc[datos_lat_lon_miss['ciudad'] != '0, 0, Argentina']\n",
    "ciudades_sinLatLon = datos_lat_lon_miss['ciudad'].unique()\n",
    "ciudades_sinLatLon_list = datos_lat_lon_miss['ciudad'].unique().tolist()\n",
    "\n",
    "print (ciudades_sinLatLon_list)"
   ]
  },
  {
   "cell_type": "code",
   "execution_count": 28,
   "metadata": {},
   "outputs": [],
   "source": [
    "#se buscan la lat y lon de las ciudades que faltan y se agregan al dataframe original de lat y lon\n",
    "\n",
    "latitudes =[]\n",
    "longitudes = []\n",
    "\n",
    "geolocator = Nominatim(user_agent=\"xxxxxx.com.ar/\")\n",
    "\n",
    "for line in ciudades_sinLatLon_list:\n",
    "    location = geolocator.geocode(line, timeout=100)\n",
    "    if location is None:\n",
    "        latitudes.append(0)\n",
    "        longitudes.append(0)\n",
    "    else:\n",
    "        latitudes.append(location.latitude)\n",
    "        longitudes.append(location.longitude)\n",
    "\n",
    "#se genera un dataframe con las nuevas localidades encontradas, se eliminan aquellas que no encontró\n",
    "ciudades_sinLatLon_coor = pd.DataFrame({'ciudad':ciudades_sinLatLon_list, 'latitud': latitudes, 'longitud': longitudes})  \n",
    "ciudades_sinLatLon_coor = ciudades_sinLatLon_coor[ciudades_sinLatLon_coor['latitud'] != 0]\n",
    "\n",
    "#se une esta información al dataframe original de lat y long\n",
    "frames_LatLon = [lat_long, ciudades_sinLatLon_coor]\n",
    "lat_lon_nuevo = pd.concat(frames_LatLon, sort=False)\n",
    "\n",
    "#se guarda el nuevo dataframe para próximos usos\n",
    "lat_lon_nuevo.to_excel(r'lat y long por localidad argentina.xlsx', index=False)"
   ]
  },
  {
   "cell_type": "code",
   "execution_count": 29,
   "metadata": {},
   "outputs": [],
   "source": [
    "#se eliminan las lat y long anteriores del dataframe y se vuelve a cruzar\n",
    "\n",
    "datos = datos.drop(['latitud', 'longitud'], axis=1)\n",
    "datos= pd.merge(datos, lat_lon_nuevo, on='ciudad', how='left').fillna(0)"
   ]
  },
  {
   "cell_type": "code",
   "execution_count": 30,
   "metadata": {},
   "outputs": [],
   "source": [
    "#puede darse el caso de que existan clientes actuales sin carga de localidades\n",
    "#se utilizan las de los distribuidores para no perder información\n",
    "\n",
    "#Primero se recurre a un archivo que almacena las localidades de los distribuidores y sus coordenadas\n",
    "localidades_AC = pd.read_excel(r'localidades por AC.xlsx')\n",
    "\n",
    "#Se realizan correcciones\n",
    "localidades_AC['Localidad'] = localidades_AC['Localidad'].str.replace('(PROV. LA PAMPA)', '')\n",
    "localidades_AC['Localidad'] = localidades_AC['Localidad'].str.replace('(PROV. JUJUY)', '')\n",
    "localidades_AC['Localidad'] = localidades_AC['Localidad'].str.replace('(PROV. CORDOBA)','')\n",
    "localidades_AC['Localidad'] = localidades_AC['Localidad'].str.replace('(PROV. RIO NEGRO)', '')\n",
    "localidades_AC['Localidad'] = localidades_AC['Localidad'].str.replace('(PROV. TIERRA DEL FUEGO)', '')\n",
    "localidades_AC['Localidad'] = localidades_AC['Localidad'].str.replace('(PROV. TUCUMAN)','')\n",
    "localidades_AC['Localidad'] = localidades_AC['Localidad'].str.replace('(PROV. MISIONES)', '')\n",
    "localidades_AC['Localidad'] = localidades_AC['Localidad'].str.replace('(PROV. SALTA)',  '')\n",
    "localidades_AC['Localidad'] = localidades_AC['Localidad'].str.replace('(PROV. CORRIENTES)', '')\n",
    "localidades_AC['Localidad'] = localidades_AC['Localidad'].str.replace(' COOP', '') \n",
    "localidades_AC['Localidad'] = localidades_AC['Localidad'].str.replace('CAPITAL FEDERAL Y ALREDEDORES', 'CABA') \n",
    "\n",
    "#se genera la string \"ciudad\"\n",
    "localidades_AC['ciudad'] = localidades_AC['Localidad'] + \", \" + localidades_AC['Provincia'] + ', Argentina'\n",
    "\n",
    "#se buscan lat y lon de las ciudades de los AC que podrían faltar\n",
    "geolocator = Nominatim(user_agent=\"https://empirical.com.ar/\")\n",
    "\n",
    "for line in range (len(localidades_AC)):\n",
    "    if localidades_AC['latitud'][line] == 0:\n",
    "        location = geolocator.geocode(localidades_AC['ciudad'][line], timeout=100)\n",
    "        if location is None:\n",
    "            localidades_AC['latitud'][line] ==0\n",
    "            localidades_AC['longitud'][line] ==0\n",
    "        else:\n",
    "            localidades_AC['latitud'][line] = localidades_AC['latitud'][line] + location.latitude\n",
    "            localidades_AC['longitud'][line] = localidades_AC['longitud'][line] + location.longitude\n",
    "\n",
    "#se guarda de nuevo el listado\n",
    "localidades_AC.to_excel(r'localidades por AC.xlsx', index=False)"
   ]
  },
  {
   "cell_type": "code",
   "execution_count": 31,
   "metadata": {},
   "outputs": [],
   "source": [
    "#Cambio de header\n",
    "localidades_AC = localidades_AC.rename(columns={\"latitud\": \"latitud_AC\", 'longitud': 'longitud_AC'})\n",
    "\n",
    "#Se reemplazan valores perdidos de lat y lon por las de los dis\n",
    "datos= pd.merge(datos, localidades_AC, on='Id AC Sup.', how='left').fillna(0)\n",
    "\n",
    "#imputar lat de los distribuidores en aquellos clientes que tienen valores erroneos\n",
    "datos.loc[datos['latitud'] > -21, 'latitud'] = datos['latitud_AC']\n",
    "datos.loc[datos['latitud'] < -56, 'latitud'] = datos['latitud_AC']\n",
    "\n",
    "#imputar Lon de los distribuidores en aquellos clientes que tienen valores erroneos\n",
    "datos.loc[datos['longitud'] > -52, 'longitud'] = datos['longitud_AC']\n",
    "datos.loc[datos['longitud'] < -74, 'longitud'] = datos['longitud_AC']"
   ]
  },
  {
   "cell_type": "code",
   "execution_count": 32,
   "metadata": {},
   "outputs": [],
   "source": [
    "#ESTIMAR LAS MEDIANAS DE LAS REDES DE CLIENTES DE LOS DISTRIBUIDORES\n",
    "#PARA TENER UN CENTROIDE DE OPERACIÓN DE CADA UNO\n",
    "\n",
    "lat_lon_CPs_AC = datos[['Id AC Sup.', 'latitud', 'longitud']]\n",
    "\n",
    "lat_lon_median_AC= pd.pivot_table(lat_lon_CPs_AC, values=['latitud', 'longitud'], \n",
    "                                  index=['Id AC Sup.'], \n",
    "                                  aggfunc='median').fillna(0)\n",
    "\n",
    "lat_lon_median_AC = lat_lon_median_AC.reset_index()\n",
    "lat_lon_median_AC.columns = ['Id AC Sup.', 'latitud_mediana', 'longitud_mediana']"
   ]
  },
  {
   "cell_type": "code",
   "execution_count": 33,
   "metadata": {},
   "outputs": [],
   "source": [
    "#comparación de centroides de dos distribuidores\n",
    "datos_un_AC = datos[datos['Id AC Sup.'] == 912]\n",
    "mediana_un_AC = lat_lon_median_AC[lat_lon_median_AC['Id AC Sup.'] == 912]\n",
    "\n",
    "datos_un_AC_2 = datos[datos['Id AC Sup.'] == 1830]\n",
    "mediana_un_AC_2 = lat_lon_median_AC[lat_lon_median_AC['Id AC Sup.'] == 1830]"
   ]
  },
  {
   "cell_type": "markdown",
   "metadata": {},
   "source": [
    "Se grafican las redes de clientes actuales de dos distribuidores y los centroides de cada una de ellas"
   ]
  },
  {
   "cell_type": "code",
   "execution_count": 119,
   "metadata": {},
   "outputs": [
    {
     "data": {
      "text/plain": [
       "<matplotlib.legend.Legend at 0x19c63569340>"
      ]
     },
     "execution_count": 119,
     "metadata": {},
     "output_type": "execute_result"
    },
    {
     "data": {
      "image/png": "[encoded data removed]",
      "text/plain": [
       "<Figure size 576x576 with 1 Axes>"
      ]
     },
     "metadata": {},
     "output_type": "display_data"
    }
   ],
   "source": [
    "#se generan 4 grupos de cordenadas para los dos distribuidores y para los clientes actuales de cada uno\n",
    "lats_C = datos_un_AC['latitud'].values\n",
    "lons_C = datos_un_AC['longitud'].values\n",
    "\n",
    "lats_A = mediana_un_AC['latitud_mediana'].values\n",
    "lons_A = mediana_un_AC['longitud_mediana'].values\n",
    "\n",
    "lats_C2 = datos_un_AC_2['latitud'].values\n",
    "lons_C2 = datos_un_AC_2['longitud'].values\n",
    "\n",
    "lats_A2 = mediana_un_AC_2['latitud_mediana'].values\n",
    "lons_A2 = mediana_un_AC_2['longitud_mediana'].values\n",
    "\n",
    "#se establecen latitudes mínimas y máximas\n",
    "lats = np.concatenate((lats_C, lats_A))\n",
    "lons = np.concatenate((lons_C, lons_A))\n",
    "\n",
    "min_lon = lons.min()-0.02\n",
    "min_lat = lats.min()-0.02\n",
    "max_lon = lons.max()+0.02\n",
    "max_lat = lats.max()+0.02\n",
    "\n",
    "#se definen las características del mapa\n",
    "fig = plt.figure(figsize=(8, 8))\n",
    "m = Basemap(projection='cyl', resolution='h', \n",
    "            llcrnrlon= min_lon, \n",
    "            llcrnrlat = min_lat, \n",
    "            urcrnrlon = max_lon, \n",
    "            urcrnrlat=max_lat)\n",
    "            \n",
    "m.drawcoastlines(color='powderblue')\n",
    "m.drawcountries(color='black')\n",
    "m.drawstates(color='grey')\n",
    "\n",
    "# se grafican las coordenadas medianas de los distribuidores y las de los clientes actuales de cada uno\n",
    "c1 = m.scatter(lons_C, lats_C, latlon=True, color = 'lightcoral', alpha=0.5) #agentes\n",
    "a1 = m.scatter(lons_A, lats_A, latlon=True, color = 'r', alpha=0.9) #clientes\n",
    "c2 = m.scatter(lons_C2, lats_C2, latlon=True, color = 'lime', alpha=0.5) #agentes\n",
    "a2 = m.scatter(lons_A2, lats_A2, latlon=True, color = 'g', alpha=0.9) #clientes\n",
    "\n",
    "#se definen las leyendas\n",
    "plt.legend((c1,a1,c2,a2),\n",
    "           ('clientes 1', 'distribuidor 1', 'clientes 2', 'distribuidor 2'),\n",
    "           scatterpoints=1,\n",
    "           loc='lower left',\n",
    "           ncol=1,\n",
    "           fontsize=8)"
   ]
  },
  {
   "cell_type": "markdown",
   "metadata": {},
   "source": [
    "A continuación se estiman las distancias entre clientes potenciales que dejaron sus datos y los centroides de las redes de los distribuidores"
   ]
  },
  {
   "cell_type": "code",
   "execution_count": 37,
   "metadata": {},
   "outputs": [],
   "source": [
    "clientes = clientes.fillna(0)"
   ]
  },
  {
   "cell_type": "code",
   "execution_count": 73,
   "metadata": {},
   "outputs": [],
   "source": [
    "#DISTANCIAS ENTRE CLIENTE POTENCIALES Y MEDIANAS DE LAS REDES DE CADA DISTRIBUIDOR\n",
    "#CRITERIO: Se asigno cada cliente potencial a los tres distribuidores más cercanos,\n",
    "#ordenando a los tres según la PROPORCIÓN DE VENTAS DEL MES. \n",
    "\n",
    "AC_asig_dict = []\n",
    "\n",
    "#CALCULOS DE UNIDEDADES VENDIDAS DEL MES POR DISTRIBUIDOR\n",
    "unidades_AC= pd.pivot_table(datos, values=['Cant. Tot. Excep. No Comis.'], \n",
    "                            index=['Id AC Sup.'], \n",
    "                            aggfunc='sum').fillna(0)\n",
    "\n",
    "total = unidades_AC['Cant. Tot. Excep. No Comis.'].sum()\n",
    "unidades_AC['participación_mes'] = unidades_AC['Cant. Tot. Excep. No Comis.']/total\n",
    "\n",
    "#PARA CADA CLIENTE SE BUSCA A LOS 3 DISTRIBUIDORES MÁS CERCANOS \n",
    "for j in range (len(clientes)):\n",
    "    distancias = []\n",
    "\n",
    "    for i in lat_lon_median_AC.index:\n",
    "        coords_1 = (lat_lon_median_AC['latitud_mediana'][i], lat_lon_median_AC['longitud_mediana'][i])\n",
    "        coords_2 = (clientes['latitud'][j], clientes['longitud'][j])\n",
    "    \n",
    "        distance = geopy.distance.geodesic(coords_1, coords_2).km\n",
    "    \n",
    "        distancias.append(distance)\n",
    "    \n",
    "    lat_lon_median_AC['dist'] = distancias\n",
    "\n",
    "#SACAR EL TOP 3 DE DISTRIBUIDORES MÁS CERCANOS Y ORDENAR POR VENTAS DEL MES\n",
    "    lat_lon_median_AC_ord = lat_lon_median_AC.sort_values(by='dist')\n",
    "    lat_lon_median_AC_ord_top_3 = lat_lon_median_AC_ord.iloc[:3,:1]\n",
    "\n",
    "    unidades_top_3 = pd.merge(lat_lon_median_AC_ord_top_3, unidades_AC, on='Id AC Sup.', how='left').fillna(0)\n",
    "\n",
    "    unidades_top_3 = unidades_top_3.sort_values(by = 'participación_mes', ascending = False)\n",
    "    \n",
    "    unidades_top_3 = unidades_top_3.reset_index()\n",
    "    \n",
    "    dist_asignado = unidades_top_3['Id AC Sup.'].iloc[:1].values[0]\n",
    "    \n",
    "    AC_asig_dict.append(dist_asignado)"
   ]
  },
  {
   "cell_type": "code",
   "execution_count": 82,
   "metadata": {},
   "outputs": [],
   "source": [
    "#unir distribuidores asignados con la tabla de clientes potenciales\n",
    "clientes['dist_asig'] = AC_asig_dict"
   ]
  },
  {
   "cell_type": "markdown",
   "metadata": {},
   "source": [
    "Prueba de resultados"
   ]
  },
  {
   "cell_type": "code",
   "execution_count": 95,
   "metadata": {},
   "outputs": [],
   "source": [
    "#comparar clientes potenciales asignados de dos distribuidores\n",
    "dist_1 = 912\n",
    "dist_2 = 1830\n",
    "\n",
    "CPs_asignados_AC = clientes[clientes['dist_asig'] == dist_1]\n",
    "CPs_asignados_AC_2 = clientes[clientes['dist_asig'] == dist_2]"
   ]
  },
  {
   "cell_type": "code",
   "execution_count": 120,
   "metadata": {},
   "outputs": [
    {
     "data": {
      "text/plain": [
       "<matplotlib.legend.Legend at 0x19c63425dc0>"
      ]
     },
     "execution_count": 120,
     "metadata": {},
     "output_type": "execute_result"
    },
    {
     "data": {
      "image/png": "[encoded data removed]",
      "text/plain": [
       "<Figure size 576x576 with 1 Axes>"
      ]
     },
     "metadata": {},
     "output_type": "display_data"
    }
   ],
   "source": [
    "#se generan 4 grupos de cordenadas para los dos distribuidores y para los clientes asignados a cada uno\n",
    "\n",
    "lats_C = CPs_asignados_AC['latitud']\n",
    "lons_C = CPs_asignados_AC['longitud']\n",
    "\n",
    "lats_A = mediana_un_AC['latitud_mediana']\n",
    "lons_A = mediana_un_AC['longitud_mediana']\n",
    "\n",
    "lats_C2 = CPs_asignados_AC_2['latitud']\n",
    "lons_C2 = CPs_asignados_AC_2['longitud']\n",
    "\n",
    "lats_A2 = mediana_un_AC_2['latitud_mediana']\n",
    "lons_A2 = mediana_un_AC_2['longitud_mediana']\n",
    "\n",
    "#se establecen latitudes mínimas y máximas\n",
    "lats = np.concatenate((lats_C, lats_A, lats_C2, lats_A2))\n",
    "lons = np.concatenate((lons_C, lons_A, lons_C2, lons_A2))\n",
    "\n",
    "min_lon = lons.min()-1\n",
    "min_lat = lats.min()-1\n",
    "max_lon = lons.max()+1\n",
    "max_lat = lats.max()+1\n",
    "\n",
    "#se definen las características del mapa\n",
    "fig = plt.figure(figsize=(8, 8))\n",
    "m = Basemap(projection='cyl', resolution='h', \n",
    "            llcrnrlon= min_lon, \n",
    "            llcrnrlat = min_lat, \n",
    "            urcrnrlon = max_lon, \n",
    "            urcrnrlat=max_lat)\n",
    "            \n",
    "#m.drawcoastlines(color='powderblue')\n",
    "m.drawcountries(color='black')\n",
    "m.drawstates(color='grey')\n",
    "\n",
    "# se grafican las coordenadas medianas de los distribuidores y las de los clientes potenciales asignados\n",
    "c1 = m.scatter(lons_C, lats_C, latlon=True, color = 'm', alpha=0.5) #clientes potenciales 1\n",
    "a1 = m.scatter(lons_A, lats_A, latlon=True, color = 'r', alpha=0.9) #distribuidor 1\n",
    "c2 = m.scatter(lons_C2, lats_C2, latlon=True, color = 'cyan', alpha=0.5) #clientes potenciales 2\n",
    "a2 = m.scatter(lons_A2, lats_A2, latlon=True, color = 'g', alpha=0.9) #distribuidor 2\n",
    "\n",
    "#se definen las leyendas\n",
    "plt.legend((c1,a1,c2,a2),\n",
    "           ('clientes potenciales 1', 'distribuidor 1', 'clientes potenciales 2', 'distribuidor 2'),\n",
    "           scatterpoints=1,\n",
    "           loc='lower left',\n",
    "           ncol=1,\n",
    "           fontsize=8)"
   ]
  },
  {
   "cell_type": "code",
   "execution_count": null,
   "metadata": {},
   "outputs": [],
   "source": []
  }
 ],
 "metadata": {
  "kernelspec": {
   "display_name": "Python 3",
   "language": "python",
   "name": "python3"
  },
  "language_info": {
   "codemirror_mode": {
    "name": "ipython",
    "version": 3
   },
   "file_extension": ".py",
   "mimetype": "text/x-python",
   "name": "python",
   "nbconvert_exporter": "python",
   "pygments_lexer": "ipython3",
   "version": "3.8.5"
  }
 },
 "nbformat": 4,
 "nbformat_minor": 4
}
